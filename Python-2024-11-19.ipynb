{
 "cells": [
  {
   "cell_type": "markdown",
   "metadata": {},
   "source": [
    "# Agenda: Week 3\n",
    "\n",
    "1. Q&A\n",
    "2. Dictionaries\n",
    "    - Defining them\n",
    "    - Retrieving from them\n",
    "    - Modifying them\n",
    "    - Three paradigms of dictionary use\n",
    "    - Looping over dictionaries\n",
    "    - How do dicts work behind the scenes?\n",
    "3. Files (text files)\n",
    "    - How do we read from a file?\n",
    "    - Iterating over file objects\n",
    "    - Writing to files and the `with` construct"
   ]
  },
  {
   "cell_type": "markdown",
   "metadata": {},
   "source": [
    "# Dictionaries\n",
    "\n",
    "So far, we've talked about several types of \"collections\" in Python, data structures that contain other data structures:\n",
    "\n",
    "- Strings (which contain characters)\n",
    "- Lists (the main container, which contain anything -- traditionally many items of the same type)\n",
    "- Tuples (contains, traditionally containing different types)\n",
    "\n",
    "In all of these cases, we store and retrieve via the index, which starts at 0 and goes up to the length - 1.\n",
    "\n",
    "Two problems: \n",
    "\n",
    "1. If we want to search for something, it can take a long time to find it, because we need to iterate over the entire data structure in order to search. The longer the string/list/tuple, the longer it can take to find out if a value is there.\n",
    "2. Storing and retrieving by numeric index is not very intuitive.  We might want to store/retrieve information about employees by their ID number. Or about cars by their license plates. We *can* use the indexes, but something else might be nicer/better/easier to work with.\n",
    "\n",
    "This is where dicts come in. Python is not the only language with dictionaries!  In other languages, we call them:\n",
    "\n",
    "- Hash tables\n",
    "- Hashes\n",
    "- Hash maps\n",
    "- Maps\n",
    "- Name-value pairs\n",
    "- Key-value pairs\n",
    "- Associative arrays\n",
    "\n",
    "The idea is that we are going to store not individual values, but *pairs* of values. One is called the \"key\" (it's the equivalent to an index) and the other is the \"value.\" \n",
    "\n",
    "We can only work with pairs, never just a key or just a value.\n",
    "\n",
    "Some rules for dicts:\n",
    "\n",
    "- Every key has a value, and every value has a key.\n",
    "- Values can be *ANYTHING* at all in the Python world.\n",
    "- Keys are more restricted: They must be immutable (basically: numbers, strings, tuples), and they cannot repeat.\n",
    "\n",
    "It's most common for us to define a dict with strings as keys, and something else (integers, floats, other strings) as the values.\n",
    "\n",
    "You can think of a dict in some ways as a list in which we get to control not only the value that's stored, but also the index (key) we use to store it."
   ]
  },
  {
   "cell_type": "markdown",
   "metadata": {},
   "source": [
    "# Dict syntax\n",
    "\n",
    "To define a dict:\n",
    "\n",
    "- We use `{}`\n",
    "- Each key-value pair has a `:` between the key and the value\n",
    "- Pairs are separated by `,`\n"
   ]
  },
  {
   "cell_type": "code",
   "execution_count": 1,
   "metadata": {},
   "outputs": [],
   "source": [
    "d = {'a':10, 'b':20, 'c':30}    # here, I'm creating a dict with three pairs"
   ]
  },
  {
   "cell_type": "code",
   "execution_count": 2,
   "metadata": {},
   "outputs": [
    {
     "data": {
      "text/plain": [
       "10"
      ]
     },
     "execution_count": 2,
     "metadata": {},
     "output_type": "execute_result"
    }
   ],
   "source": [
    "# we retrieve from a dict using [], just as we do with strings, lists, and tuples\n",
    "# but in the [], we put the key we want\n",
    "\n",
    "d['a']  "
   ]
  },
  {
   "cell_type": "code",
   "execution_count": 3,
   "metadata": {},
   "outputs": [
    {
     "data": {
      "text/plain": [
       "10"
      ]
     },
     "execution_count": 3,
     "metadata": {},
     "output_type": "execute_result"
    }
   ],
   "source": [
    "k = 'a'   # assign to a variable\n",
    "d[k]  "
   ]
  },
  {
   "cell_type": "code",
   "execution_count": 4,
   "metadata": {},
   "outputs": [
    {
     "ename": "KeyError",
     "evalue": "'wxyz'",
     "output_type": "error",
     "traceback": [
      "\u001b[0;31m---------------------------------------------------------------------------\u001b[0m",
      "\u001b[0;31mKeyError\u001b[0m                                  Traceback (most recent call last)",
      "Cell \u001b[0;32mIn[4], line 1\u001b[0m\n\u001b[0;32m----> 1\u001b[0m \u001b[43md\u001b[49m\u001b[43m[\u001b[49m\u001b[38;5;124;43m'\u001b[39;49m\u001b[38;5;124;43mwxyz\u001b[39;49m\u001b[38;5;124;43m'\u001b[39;49m\u001b[43m]\u001b[49m   \u001b[38;5;66;03m# ask for a key that doesn't exist...\u001b[39;00m\n",
      "\u001b[0;31mKeyError\u001b[0m: 'wxyz'"
     ]
    }
   ],
   "source": [
    "d['wxyz']   # ask for a key that doesn't exist..."
   ]
  },
  {
   "cell_type": "code",
   "execution_count": 5,
   "metadata": {},
   "outputs": [
    {
     "data": {
      "text/plain": [
       "3"
      ]
     },
     "execution_count": 5,
     "metadata": {},
     "output_type": "execute_result"
    }
   ],
   "source": [
    "# get the length of a dict with len()\n",
    "len(d)"
   ]
  },
  {
   "cell_type": "code",
   "execution_count": 6,
   "metadata": {},
   "outputs": [
    {
     "data": {
      "text/plain": [
       "{'a': 10, 'b': 20, 'c': 30}"
      ]
     },
     "execution_count": 6,
     "metadata": {},
     "output_type": "execute_result"
    }
   ],
   "source": [
    "d"
   ]
  },
  {
   "cell_type": "code",
   "execution_count": 7,
   "metadata": {},
   "outputs": [
    {
     "data": {
      "text/plain": [
       "True"
      ]
     },
     "execution_count": 7,
     "metadata": {},
     "output_type": "execute_result"
    }
   ],
   "source": [
    "# if we want to avoid an error, then we don't want to request a key that doesn't exist\n",
    "# we can use \"in\" to search in a dict's keys, to know if the key exists.\n",
    "# note that \"in\" NEVER EVER searches in the values, only in the keys\n",
    "\n",
    "'a' in d   # is 'a' a key in d?"
   ]
  },
  {
   "cell_type": "code",
   "execution_count": 8,
   "metadata": {},
   "outputs": [
    {
     "data": {
      "text/plain": [
       "False"
      ]
     },
     "execution_count": 8,
     "metadata": {},
     "output_type": "execute_result"
    }
   ],
   "source": [
    "'x' in d"
   ]
  },
  {
   "cell_type": "markdown",
   "metadata": {},
   "source": [
    "- Keys are unique and immutable\n",
    "- Values can be anything at all, no restrictions on types or repetition"
   ]
  },
  {
   "cell_type": "code",
   "execution_count": 9,
   "metadata": {},
   "outputs": [],
   "source": [
    "person = {'first_name':'Reuven', 'last_name':'Lerner', 'shoe_size':46}"
   ]
  },
  {
   "cell_type": "code",
   "execution_count": 10,
   "metadata": {},
   "outputs": [
    {
     "data": {
      "text/plain": [
       "'Reuven'"
      ]
     },
     "execution_count": 10,
     "metadata": {},
     "output_type": "execute_result"
    }
   ],
   "source": [
    "# I've now created a dict with three key-value pairs\n",
    "\n",
    "person['first_name']"
   ]
  },
  {
   "cell_type": "code",
   "execution_count": 11,
   "metadata": {},
   "outputs": [
    {
     "data": {
      "text/plain": [
       "46"
      ]
     },
     "execution_count": 11,
     "metadata": {},
     "output_type": "execute_result"
    }
   ],
   "source": [
    "person['shoe_size']"
   ]
  },
  {
   "cell_type": "code",
   "execution_count": 12,
   "metadata": {},
   "outputs": [
    {
     "ename": "KeyError",
     "evalue": "'email'",
     "output_type": "error",
     "traceback": [
      "\u001b[0;31m---------------------------------------------------------------------------\u001b[0m",
      "\u001b[0;31mKeyError\u001b[0m                                  Traceback (most recent call last)",
      "Cell \u001b[0;32mIn[12], line 1\u001b[0m\n\u001b[0;32m----> 1\u001b[0m \u001b[43mperson\u001b[49m\u001b[43m[\u001b[49m\u001b[38;5;124;43m'\u001b[39;49m\u001b[38;5;124;43memail\u001b[39;49m\u001b[38;5;124;43m'\u001b[39;49m\u001b[43m]\u001b[49m\n",
      "\u001b[0;31mKeyError\u001b[0m: 'email'"
     ]
    }
   ],
   "source": [
    "person['email']"
   ]
  },
  {
   "cell_type": "code",
   "execution_count": 14,
   "metadata": {},
   "outputs": [
    {
     "name": "stdout",
     "output_type": "stream",
     "text": [
      "Who has email any more?\n"
     ]
    }
   ],
   "source": [
    "if 'email' in person:\n",
    "    print(person['email'])\n",
    "else:\n",
    "    print('Who has email any more?')"
   ]
  },
  {
   "cell_type": "markdown",
   "metadata": {},
   "source": [
    "When we use `in` to search in a string, list, or tuple, we're searching through each of the values, one at a time.\n",
    "\n",
    "When we use `in` to search a dict's keys, we're actually going straight to the place in memory where the key might (if it's there) be stored. And we know right away. This is a far faster search, and takes much less time."
   ]
  },
  {
   "cell_type": "markdown",
   "metadata": {},
   "source": [
    "# Uses for dicts\n",
    "\n",
    "It turns out that there are *many* programming problems that are elegantly solved using dicts:\n",
    "\n",
    "- user IDs and user records in a database\n",
    "- filenames and file attributes\n",
    "- filenames and file contents\n",
    "- directory names and file objects in that directory\n",
    "\n",
    "The fact that a dict can use strings for keys allows us to use natural, human types of information to store and retrieve. We can even get input from the user and use that to search through our dict."
   ]
  },
  {
   "cell_type": "markdown",
   "metadata": {},
   "source": [
    "# Exercise: Restaurant\n",
    "\n",
    "1. Define a dict, `menu`, which represents the menu at a restaurant. (You can decide what the restaurant sells, and what prices they have.)\n",
    "2. Define `total`, an integer to be 0.\n",
    "3. Ask the user, repeatedly, to enter the name of the dish they want to order\n",
    "    - If they enter an empty string, then stop asking and print the total\n",
    "4. If the item is on the menu, then print the item, its price, and the new total.\n",
    "5. If the item is *not* on the menu, then scold the user and let them try again.\n",
    "6. In the end, print the total.\n",
    "\n",
    "Example:\n",
    "\n",
    "    Order: sandwich\n",
    "    sandwich is 10, total is 10\n",
    "    Order: tea\n",
    "    tea is 8, total is 18\n",
    "    Order: elephant\n",
    "    we're fresh out of elephant today!\n",
    "    Order: [ENTER]\n",
    "    total is 18\n",
    "\n",
    "Plan:\n",
    "- Create a dict with keys (strings/items) and values (prices)\n",
    "- Use a `while` loop to ask the user repeatedly to enter what they want to order\n",
    "- Use `input` in the `while` loop to get the user's input\n",
    "- Check if the user entered an empty string, and if so, use `break` to leave the loop\n",
    "- Check if the user's input is in the dict with `in`\n",
    "- Update `total` accordingly"
   ]
  },
  {
   "cell_type": "markdown",
   "metadata": {},
   "source": [
    "# To define a dict\n",
    "\n",
    "- Use `{}` on the outside\n",
    "- Each key-value pair has a `:` between the key and value\n",
    "- The pairs are separated with `,`\n",
    "\n",
    "```python\n",
    "months = {'Jan':1, 'Feb':2, 'Mar':3, 'Apr':4}\n",
    "months = {1:'Jan', 2:'Feb', 3:'Mar', 4:'Apr\n",
    "```"
   ]
  }
 ],
 "metadata": {
  "kernelspec": {
   "display_name": "Python 3 (ipykernel)",
   "language": "python",
   "name": "python3"
  },
  "language_info": {
   "codemirror_mode": {
    "name": "ipython",
    "version": 3
   },
   "file_extension": ".py",
   "mimetype": "text/x-python",
   "name": "python",
   "nbconvert_exporter": "python",
   "pygments_lexer": "ipython3",
   "version": "3.13.0"
  }
 },
 "nbformat": 4,
 "nbformat_minor": 4
}
