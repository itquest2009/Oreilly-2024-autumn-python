{
 "cells": [
  {
   "cell_type": "markdown",
   "metadata": {},
   "source": [
    "# Agenda: Week 3\n",
    "\n",
    "1. Q&A\n",
    "2. Dictionaries\n",
    "    - Defining them\n",
    "    - Retrieving from them\n",
    "    - Modifying them\n",
    "    - Three paradigms of dictionary use\n",
    "    - Looping over dictionaries\n",
    "    - How do dicts work behind the scenes?\n",
    "3. Files (text files)\n",
    "    - How do we read from a file?\n",
    "    - Iterating over file objects\n",
    "    - Writing to files and the `with` construct"
   ]
  },
  {
   "cell_type": "code",
   "execution_count": null,
   "metadata": {},
   "outputs": [],
   "source": []
  }
 ],
 "metadata": {
  "kernelspec": {
   "display_name": "Python 3 (ipykernel)",
   "language": "python",
   "name": "python3"
  },
  "language_info": {
   "codemirror_mode": {
    "name": "ipython",
    "version": 3
   },
   "file_extension": ".py",
   "mimetype": "text/x-python",
   "name": "python",
   "nbconvert_exporter": "python",
   "pygments_lexer": "ipython3",
   "version": "3.13.0"
  }
 },
 "nbformat": 4,
 "nbformat_minor": 4
}
