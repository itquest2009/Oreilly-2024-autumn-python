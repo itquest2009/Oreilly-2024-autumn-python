{
 "cells": [
  {
   "cell_type": "markdown",
   "metadata": {},
   "source": [
    "# Agenda: Week 3\n",
    "\n",
    "1. Q&A\n",
    "2. Dictionaries\n",
    "    - Defining them\n",
    "    - Retrieving from them\n",
    "    - Modifying them\n",
    "    - Three paradigms of dictionary use\n",
    "    - Looping over dictionaries\n",
    "    - How do dicts work behind the scenes?\n",
    "3. Files (text files)\n",
    "    - How do we read from a file?\n",
    "    - Iterating over file objects\n",
    "    - Writing to files and the `with` construct"
   ]
  },
  {
   "cell_type": "markdown",
   "metadata": {},
   "source": [
    "# Dictionaries\n",
    "\n",
    "So far, we've talked about several types of \"collections\" in Python, data structures that contain other data structures:\n",
    "\n",
    "- Strings (which contain characters)\n",
    "- Lists (the main container, which contain anything -- traditionally many items of the same type)\n",
    "- Tuples (contains, traditionally containing different types)\n",
    "\n",
    "In all of these cases, we store and retrieve via the index, which starts at 0 and goes up to the length - 1.\n",
    "\n",
    "Two problems: \n",
    "\n",
    "1. If we want to search for something, it can take a long time to find it, because we need to iterate over the entire data structure in order to search. The longer the string/list/tuple, the longer it can take to find out if a value is there.\n",
    "2. Storing and retrieving by numeric index is not very intuitive.  We might want to store/retrieve information about employees by their ID number. Or about cars by their license plates. We *can* use the indexes, but something else might be nicer/better/easier to work with.\n",
    "\n",
    "This is where dicts come in. Python is not the only language with dictionaries!  In other languages, we call them:\n",
    "\n",
    "- Hash tables\n",
    "- Hashes\n",
    "- Hash maps\n",
    "- Maps\n",
    "- Name-value pairs\n",
    "- Key-value pairs\n",
    "- Associative arrays\n",
    "\n",
    "The idea is that we are going to store not individual values, but *pairs* of values. One is called the \"key\" (it's the equivalent to an index) and the other is the \"value.\" \n",
    "\n",
    "We can only work with pairs, never just a key or just a value.\n",
    "\n",
    "Some rules for dicts:\n",
    "\n",
    "- Every key has a value, and every value has a key.\n",
    "- Values can be *ANYTHING* at all in the Python world.\n",
    "- Keys are more restricted: They must be immutable (basically: numbers, strings, tuples), and they cannot repeat.\n",
    "\n",
    "It's most common for us to define a dict with strings as keys, and something else (integers, floats, other strings) as the values.\n",
    "\n",
    "You can think of a dict in some ways as a list in which we get to control not only the value that's stored, but also the index (key) we use to store it."
   ]
  },
  {
   "cell_type": "markdown",
   "metadata": {},
   "source": [
    "# Dict syntax\n",
    "\n",
    "To define a dict:\n",
    "\n",
    "- We use `{}`\n",
    "- Each key-value pair has a `:` between the key and the value\n",
    "- Pairs are separated by `,`\n"
   ]
  },
  {
   "cell_type": "code",
   "execution_count": 1,
   "metadata": {},
   "outputs": [],
   "source": [
    "d = {'a':10, 'b':20, 'c':30}    # here, I'm creating a dict with three pairs"
   ]
  },
  {
   "cell_type": "code",
   "execution_count": 2,
   "metadata": {},
   "outputs": [
    {
     "data": {
      "text/plain": [
       "10"
      ]
     },
     "execution_count": 2,
     "metadata": {},
     "output_type": "execute_result"
    }
   ],
   "source": [
    "# we retrieve from a dict using [], just as we do with strings, lists, and tuples\n",
    "# but in the [], we put the key we want\n",
    "\n",
    "d['a']  "
   ]
  },
  {
   "cell_type": "code",
   "execution_count": 3,
   "metadata": {},
   "outputs": [
    {
     "data": {
      "text/plain": [
       "10"
      ]
     },
     "execution_count": 3,
     "metadata": {},
     "output_type": "execute_result"
    }
   ],
   "source": [
    "k = 'a'   # assign to a variable\n",
    "d[k]  "
   ]
  },
  {
   "cell_type": "code",
   "execution_count": 4,
   "metadata": {},
   "outputs": [
    {
     "ename": "KeyError",
     "evalue": "'wxyz'",
     "output_type": "error",
     "traceback": [
      "\u001b[0;31m---------------------------------------------------------------------------\u001b[0m",
      "\u001b[0;31mKeyError\u001b[0m                                  Traceback (most recent call last)",
      "Cell \u001b[0;32mIn[4], line 1\u001b[0m\n\u001b[0;32m----> 1\u001b[0m \u001b[43md\u001b[49m\u001b[43m[\u001b[49m\u001b[38;5;124;43m'\u001b[39;49m\u001b[38;5;124;43mwxyz\u001b[39;49m\u001b[38;5;124;43m'\u001b[39;49m\u001b[43m]\u001b[49m   \u001b[38;5;66;03m# ask for a key that doesn't exist...\u001b[39;00m\n",
      "\u001b[0;31mKeyError\u001b[0m: 'wxyz'"
     ]
    }
   ],
   "source": [
    "d['wxyz']   # ask for a key that doesn't exist..."
   ]
  },
  {
   "cell_type": "code",
   "execution_count": 5,
   "metadata": {},
   "outputs": [
    {
     "data": {
      "text/plain": [
       "3"
      ]
     },
     "execution_count": 5,
     "metadata": {},
     "output_type": "execute_result"
    }
   ],
   "source": [
    "# get the length of a dict with len()\n",
    "len(d)"
   ]
  },
  {
   "cell_type": "code",
   "execution_count": 6,
   "metadata": {},
   "outputs": [
    {
     "data": {
      "text/plain": [
       "{'a': 10, 'b': 20, 'c': 30}"
      ]
     },
     "execution_count": 6,
     "metadata": {},
     "output_type": "execute_result"
    }
   ],
   "source": [
    "d"
   ]
  },
  {
   "cell_type": "code",
   "execution_count": 7,
   "metadata": {},
   "outputs": [
    {
     "data": {
      "text/plain": [
       "True"
      ]
     },
     "execution_count": 7,
     "metadata": {},
     "output_type": "execute_result"
    }
   ],
   "source": [
    "# if we want to avoid an error, then we don't want to request a key that doesn't exist\n",
    "# we can use \"in\" to search in a dict's keys, to know if the key exists.\n",
    "# note that \"in\" NEVER EVER searches in the values, only in the keys\n",
    "\n",
    "'a' in d   # is 'a' a key in d?"
   ]
  },
  {
   "cell_type": "code",
   "execution_count": 8,
   "metadata": {},
   "outputs": [
    {
     "data": {
      "text/plain": [
       "False"
      ]
     },
     "execution_count": 8,
     "metadata": {},
     "output_type": "execute_result"
    }
   ],
   "source": [
    "'x' in d"
   ]
  },
  {
   "cell_type": "markdown",
   "metadata": {},
   "source": [
    "- Keys are unique and immutable\n",
    "- Values can be anything at all, no restrictions on types or repetition"
   ]
  },
  {
   "cell_type": "code",
   "execution_count": 9,
   "metadata": {},
   "outputs": [],
   "source": [
    "person = {'first_name':'Reuven', 'last_name':'Lerner', 'shoe_size':46}"
   ]
  },
  {
   "cell_type": "code",
   "execution_count": 10,
   "metadata": {},
   "outputs": [
    {
     "data": {
      "text/plain": [
       "'Reuven'"
      ]
     },
     "execution_count": 10,
     "metadata": {},
     "output_type": "execute_result"
    }
   ],
   "source": [
    "# I've now created a dict with three key-value pairs\n",
    "\n",
    "person['first_name']"
   ]
  },
  {
   "cell_type": "code",
   "execution_count": 11,
   "metadata": {},
   "outputs": [
    {
     "data": {
      "text/plain": [
       "46"
      ]
     },
     "execution_count": 11,
     "metadata": {},
     "output_type": "execute_result"
    }
   ],
   "source": [
    "person['shoe_size']"
   ]
  },
  {
   "cell_type": "code",
   "execution_count": 12,
   "metadata": {},
   "outputs": [
    {
     "ename": "KeyError",
     "evalue": "'email'",
     "output_type": "error",
     "traceback": [
      "\u001b[0;31m---------------------------------------------------------------------------\u001b[0m",
      "\u001b[0;31mKeyError\u001b[0m                                  Traceback (most recent call last)",
      "Cell \u001b[0;32mIn[12], line 1\u001b[0m\n\u001b[0;32m----> 1\u001b[0m \u001b[43mperson\u001b[49m\u001b[43m[\u001b[49m\u001b[38;5;124;43m'\u001b[39;49m\u001b[38;5;124;43memail\u001b[39;49m\u001b[38;5;124;43m'\u001b[39;49m\u001b[43m]\u001b[49m\n",
      "\u001b[0;31mKeyError\u001b[0m: 'email'"
     ]
    }
   ],
   "source": [
    "person['email']"
   ]
  },
  {
   "cell_type": "code",
   "execution_count": 14,
   "metadata": {},
   "outputs": [
    {
     "name": "stdout",
     "output_type": "stream",
     "text": [
      "Who has email any more?\n"
     ]
    }
   ],
   "source": [
    "if 'email' in person:\n",
    "    print(person['email'])\n",
    "else:\n",
    "    print('Who has email any more?')"
   ]
  },
  {
   "cell_type": "markdown",
   "metadata": {},
   "source": [
    "When we use `in` to search in a string, list, or tuple, we're searching through each of the values, one at a time.\n",
    "\n",
    "When we use `in` to search a dict's keys, we're actually going straight to the place in memory where the key might (if it's there) be stored. And we know right away. This is a far faster search, and takes much less time."
   ]
  },
  {
   "cell_type": "markdown",
   "metadata": {},
   "source": [
    "# Uses for dicts\n",
    "\n",
    "It turns out that there are *many* programming problems that are elegantly solved using dicts:\n",
    "\n",
    "- user IDs and user records in a database\n",
    "- filenames and file attributes\n",
    "- filenames and file contents\n",
    "- directory names and file objects in that directory\n",
    "\n",
    "The fact that a dict can use strings for keys allows us to use natural, human types of information to store and retrieve. We can even get input from the user and use that to search through our dict."
   ]
  },
  {
   "cell_type": "markdown",
   "metadata": {
    "jp-MarkdownHeadingCollapsed": true
   },
   "source": [
    "# To define a dict\n",
    "\n",
    "- Use `{}` on the outside\n",
    "- Each key-value pair has a `:` between the key and value\n",
    "- The pairs are separated with `,`\n",
    "\n",
    "```python\n",
    "month_numbers = {'Jan':1, 'Feb':2, 'Mar':3, 'Apr':4}\n",
    "month_names = {1:'Jan', 2:'Feb', 3:'Mar', 4:'Apr'}\n",
    "letter_values = {'a':1, 'b':2, 'c':3, 'd':4, 'e':5, 'f':6}\n",
    "```"
   ]
  },
  {
   "cell_type": "markdown",
   "metadata": {},
   "source": [
    "# Exercise: Restaurant\n",
    "\n",
    "1. Define a dict, `menu`, which represents the menu at a restaurant. (You can decide what the restaurant sells, and what prices they have.)\n",
    "2. Define `total`, an integer to be 0.\n",
    "3. Ask the user, repeatedly, to enter the name of the dish they want to order\n",
    "    - If they enter an empty string, then stop asking and print the total\n",
    "4. If the item is on the menu, then print the item, its price, and the new total.\n",
    "5. If the item is *not* on the menu, then scold the user and let them try again.\n",
    "6. In the end, print the total.\n",
    "\n",
    "Example:\n",
    "\n",
    "    Order: sandwich\n",
    "    sandwich is 10, total is 10\n",
    "    Order: tea\n",
    "    tea is 8, total is 18\n",
    "    Order: elephant\n",
    "    we're fresh out of elephant today!\n",
    "    Order: [ENTER]\n",
    "    total is 18\n",
    "\n",
    "Plan:\n",
    "- Create a dict with keys (strings/items) and values (prices)\n",
    "- Use a `while` loop to ask the user repeatedly to enter what they want to order\n",
    "- Use `input` in the `while` loop to get the user's input\n",
    "- Check if the user entered an empty string, and if so, use `break` to leave the loop\n",
    "- Check if the user's input is in the dict with `in`\n",
    "- Update `total` accordingly"
   ]
  },
  {
   "cell_type": "code",
   "execution_count": 15,
   "metadata": {},
   "outputs": [
    {
     "data": {
      "text/plain": [
       "4"
      ]
     },
     "execution_count": 15,
     "metadata": {},
     "output_type": "execute_result"
    }
   ],
   "source": [
    "menu = {'sandwich':10, 'tea':8, 'apple':3, 'cake':5} \n",
    "len(menu)   "
   ]
  },
  {
   "cell_type": "code",
   "execution_count": 18,
   "metadata": {},
   "outputs": [
    {
     "name": "stdin",
     "output_type": "stream",
     "text": [
      "Order:  elephant\n"
     ]
    },
    {
     "name": "stdout",
     "output_type": "stream",
     "text": [
      "Sorry, but we are out of elephant today.\n",
      "total is 0\n"
     ]
    }
   ],
   "source": [
    "menu = {'sandwich':10, 'tea':8, 'apple':3, 'cake':5} \n",
    "order = input('Order: ').strip()\n",
    "total = 0\n",
    "\n",
    "# is the user's order on the menu?\n",
    "if order in menu:\n",
    "    price = menu[order]   # get the price for the user's order\n",
    "    total += price        # add the price to the total\n",
    "    print(f'{order} costs {price}; total is now {total}')\n",
    "\n",
    "else:\n",
    "    print(f'Sorry, but we are out of {order} today.')\n",
    "\n",
    "print(f'total is {total}')"
   ]
  },
  {
   "cell_type": "markdown",
   "metadata": {},
   "source": [
    "**DO NOT USE PYTHON TYPE NAMES AS VARIABLE NAMES!**\n",
    "\n",
    "Don't call your variables:\n",
    "- `int`\n",
    "- `str`\n",
    "- `list`\n",
    "- `tuple`\n",
    "- `dict`\n",
    "\n",
    "This *will* actually work... until it doesn't. It makes for very odd, hard-to-understand bugs."
   ]
  },
  {
   "cell_type": "code",
   "execution_count": 19,
   "metadata": {},
   "outputs": [
    {
     "data": {
      "text/plain": [
       "dict"
      ]
     },
     "execution_count": 19,
     "metadata": {},
     "output_type": "execute_result"
    }
   ],
   "source": [
    "type(menu)  # what data type is menu?"
   ]
  },
  {
   "cell_type": "code",
   "execution_count": 20,
   "metadata": {},
   "outputs": [
    {
     "name": "stdin",
     "output_type": "stream",
     "text": [
      "Order:  sandwich\n"
     ]
    },
    {
     "name": "stdout",
     "output_type": "stream",
     "text": [
      "sandwich costs 10; total is now 10\n"
     ]
    },
    {
     "name": "stdin",
     "output_type": "stream",
     "text": [
      "Order:  tea\n"
     ]
    },
    {
     "name": "stdout",
     "output_type": "stream",
     "text": [
      "tea costs 8; total is now 18\n"
     ]
    },
    {
     "name": "stdin",
     "output_type": "stream",
     "text": [
      "Order:  cake\n"
     ]
    },
    {
     "name": "stdout",
     "output_type": "stream",
     "text": [
      "cake costs 5; total is now 23\n"
     ]
    },
    {
     "name": "stdin",
     "output_type": "stream",
     "text": [
      "Order:  apple\n"
     ]
    },
    {
     "name": "stdout",
     "output_type": "stream",
     "text": [
      "apple costs 3; total is now 26\n"
     ]
    },
    {
     "name": "stdin",
     "output_type": "stream",
     "text": [
      "Order:  apple\n"
     ]
    },
    {
     "name": "stdout",
     "output_type": "stream",
     "text": [
      "apple costs 3; total is now 29\n"
     ]
    },
    {
     "name": "stdin",
     "output_type": "stream",
     "text": [
      "Order:  cookie\n"
     ]
    },
    {
     "name": "stdout",
     "output_type": "stream",
     "text": [
      "Sorry, but we are out of cookie today.\n"
     ]
    },
    {
     "name": "stdin",
     "output_type": "stream",
     "text": [
      "Order:  \n"
     ]
    },
    {
     "name": "stdout",
     "output_type": "stream",
     "text": [
      "total is 29\n"
     ]
    }
   ],
   "source": [
    "# add the loop\n",
    "# here, we're using the dict as a small read-only database in our program\n",
    "\n",
    "menu = {'sandwich':10, 'tea':8, 'apple':3, 'cake':5} \n",
    "total = 0\n",
    "\n",
    "while True:\n",
    "    order = input('Order: ').strip()\n",
    "\n",
    "    # did we get the empty string? Stop the loop\n",
    "    if order == '':\n",
    "        break\n",
    "    \n",
    "    # is the user's order on the menu?\n",
    "    if order in menu:\n",
    "        price = menu[order]   # get the price for the user's order\n",
    "        total += price        # add the price to the total\n",
    "        print(f'{order} costs {price}; total is now {total}')\n",
    "    \n",
    "    else:\n",
    "        print(f'Sorry, but we are out of {order} today.')\n",
    "\n",
    "print(f'total is {total}')"
   ]
  },
  {
   "cell_type": "code",
   "execution_count": null,
   "metadata": {},
   "outputs": [],
   "source": [
    "# AS\n",
    "\n",
    "menu = {'burger':5, 'sandwitch':10, 'coffee':4}\n",
    "total = 0\n",
    "\n",
    "while True:\n",
    "    order = input(\"what you want to order\")\n",
    "    if order == \"\":\n",
    "        break\n",
    "    elif order in menu:    \n",
    "        total = total + menu[order]\n",
    "    else:\n",
    "        print(\"sorry\")\n",
    "print(total)        "
   ]
  },
  {
   "cell_type": "markdown",
   "metadata": {},
   "source": [
    "# Rules for dicts\n",
    "\n",
    "- Every key has one value, every value has one key\n",
    "- Keys must be immutable and unique in the dict\n",
    "- Values can be anything at all\n",
    "\n",
    "On the face of it, each key can have one value, so you cannot have multiple values for a key.\n",
    "\n",
    "*BUT* you can have a list or tuple as the value for a key, and then you have .. multiple values.\n",
    "\n",
    "When we retrieve from a dict, we retrieve one value at a time, based on one key. There is no such thing as a \"dict slice.\""
   ]
  },
  {
   "cell_type": "markdown",
   "metadata": {},
   "source": [
    "# Modifying dicts\n",
    "\n",
    "Dictionaries are mutable! \n",
    "\n",
    "- We can add a new key-value pair whenever we want\n",
    "- We can replace a value with a new one\n",
    "- We can remove key-value pairs\n",
    "\n",
    "This means that a dict cannot be a key in a dict. *BUT* a dict can be a value in a dict. This is how we create complex data structures, such as trees, in Python."
   ]
  },
  {
   "cell_type": "code",
   "execution_count": 21,
   "metadata": {},
   "outputs": [
    {
     "data": {
      "text/plain": [
       "{'a': 10, 'b': 20, 'c': 1234, 'd': 40}"
      ]
     },
     "execution_count": 21,
     "metadata": {},
     "output_type": "execute_result"
    }
   ],
   "source": [
    "d = {'a':10, 'b':20, 'c':30, 'd':40}\n",
    "\n",
    "# I can update/modify an existing value by assigning to the same key\n",
    "# (remember that every key in a dict is unique)\n",
    "\n",
    "d['c'] = 1234     # now 1234 will replace 30 as the value for 'c'\n",
    "\n",
    "d"
   ]
  },
  {
   "cell_type": "code",
   "execution_count": 22,
   "metadata": {},
   "outputs": [
    {
     "data": {
      "text/plain": [
       "{'a': 10, 'b': 20, 'c': 1234, 'd': 40, 'x': 9876}"
      ]
     },
     "execution_count": 22,
     "metadata": {},
     "output_type": "execute_result"
    }
   ],
   "source": [
    "# how do I add a new key-value pairs to a dict?\n",
    "# remember that in a list, we use the .append method to do so.\n",
    "# well, in dicts, we just assign the key-value pair\n",
    "# (yes, it's the same as modifying an existing key-value pair!)\n",
    "\n",
    "d['x'] = 9876\n",
    "\n",
    "d"
   ]
  },
  {
   "cell_type": "code",
   "execution_count": 23,
   "metadata": {},
   "outputs": [
    {
     "data": {
      "text/plain": [
       "{'a': 10, 'b': 20, 'c': 1234, 'd': 40, 'x': 9886}"
      ]
     },
     "execution_count": 23,
     "metadata": {},
     "output_type": "execute_result"
    }
   ],
   "source": [
    "# we can update an existing value using += \n",
    "\n",
    "d['x'] += 10    # this means: d['x'] = d['x'] + 10\n",
    "d"
   ]
  },
  {
   "cell_type": "code",
   "execution_count": 24,
   "metadata": {},
   "outputs": [
    {
     "data": {
      "text/plain": [
       "9886"
      ]
     },
     "execution_count": 24,
     "metadata": {},
     "output_type": "execute_result"
    }
   ],
   "source": [
    "# removing key-value pairs\n",
    "# this is actually pretty rare, in my experience\n",
    "\n",
    "d.pop('x')   # this removes the key-value pair with 'x' as the key, and returns the value"
   ]
  },
  {
   "cell_type": "code",
   "execution_count": 25,
   "metadata": {},
   "outputs": [
    {
     "data": {
      "text/plain": [
       "{'a': 10, 'b': 20, 'c': 1234, 'd': 40}"
      ]
     },
     "execution_count": 25,
     "metadata": {},
     "output_type": "execute_result"
    }
   ],
   "source": [
    "d"
   ]
  },
  {
   "cell_type": "code",
   "execution_count": 26,
   "metadata": {},
   "outputs": [
    {
     "data": {
      "text/plain": [
       "{'a': [10, 20, 30], 'b': [40, 50, 60], 'c': [70, 80, 90]}"
      ]
     },
     "execution_count": 26,
     "metadata": {},
     "output_type": "execute_result"
    }
   ],
   "source": [
    "# example of multiple values for a key\n",
    "\n",
    "d = {'a':[10, 20, 30], 'b':[40, 50, 60], 'c':[70, 80, 90]}\n",
    "d"
   ]
  },
  {
   "cell_type": "code",
   "execution_count": 27,
   "metadata": {},
   "outputs": [
    {
     "data": {
      "text/plain": [
       "[10, 20, 30]"
      ]
     },
     "execution_count": 27,
     "metadata": {},
     "output_type": "execute_result"
    }
   ],
   "source": [
    "d['a']"
   ]
  },
  {
   "cell_type": "code",
   "execution_count": 28,
   "metadata": {},
   "outputs": [
    {
     "data": {
      "text/plain": [
       "{'a': [10, 20, 30, 35], 'b': [40, 50, 60], 'c': [70, 80, 90]}"
      ]
     },
     "execution_count": 28,
     "metadata": {},
     "output_type": "execute_result"
    }
   ],
   "source": [
    "# I can even do this:\n",
    "\n",
    "d['a'].append(35)  # adds 35 to the list stored at d['a']\n",
    "\n",
    "d"
   ]
  },
  {
   "cell_type": "code",
   "execution_count": 29,
   "metadata": {},
   "outputs": [
    {
     "data": {
      "text/plain": [
       "[10, 20, 30, 35]"
      ]
     },
     "execution_count": 29,
     "metadata": {},
     "output_type": "execute_result"
    }
   ],
   "source": [
    "d['a']"
   ]
  },
  {
   "cell_type": "code",
   "execution_count": 30,
   "metadata": {},
   "outputs": [
    {
     "data": {
      "text/plain": [
       "10"
      ]
     },
     "execution_count": 30,
     "metadata": {},
     "output_type": "execute_result"
    }
   ],
   "source": [
    "# this looks funny, but just read it from left to right\n",
    "# - d, a dict\n",
    "# - ['a'], retrieving from the dict\n",
    "# - this gives back a list\n",
    "# - on a list, we can use [0] to retrieve the first element\n",
    "\n",
    "d['a'][0]  "
   ]
  },
  {
   "cell_type": "code",
   "execution_count": 31,
   "metadata": {},
   "outputs": [
    {
     "data": {
      "text/plain": [
       "{'a': [99999, 20, 30, 35], 'b': [40, 50, 60], 'c': [70, 80, 90]}"
      ]
     },
     "execution_count": 31,
     "metadata": {},
     "output_type": "execute_result"
    }
   ],
   "source": [
    "# we can even put that on the left side of assignment!\n",
    "\n",
    "d['a'][0]  = 99999   # assigns to the element at index 0 in the list at d['a']\n",
    "\n",
    "d"
   ]
  },
  {
   "cell_type": "code",
   "execution_count": 32,
   "metadata": {},
   "outputs": [
    {
     "data": {
      "text/plain": [
       "dict_keys(['a', 'b', 'c'])"
      ]
     },
     "execution_count": 32,
     "metadata": {},
     "output_type": "execute_result"
    }
   ],
   "source": [
    "# you can get the keys with d.keys()\n",
    "d.keys()"
   ]
  },
  {
   "cell_type": "code",
   "execution_count": 33,
   "metadata": {},
   "outputs": [
    {
     "data": {
      "text/plain": [
       "dict_values([[99999, 20, 30, 35], [40, 50, 60], [70, 80, 90]])"
      ]
     },
     "execution_count": 33,
     "metadata": {},
     "output_type": "execute_result"
    }
   ],
   "source": [
    "# you can get the values with d.values()\n",
    "d.values()"
   ]
  },
  {
   "cell_type": "markdown",
   "metadata": {},
   "source": [
    "# Python does this, too!\n",
    "\n",
    "If you store a value in a variable `x`, Python is really taking the variable name, using it as a string (`'x'`), and using that string as a key in an internal dict of variable names and values!\n",
    "\n",
    "Python's core developers are always trying to find ways to make dicts faster, not just for us, but because the entire language then gets faster as a result."
   ]
  },
  {
   "cell_type": "code",
   "execution_count": null,
   "metadata": {},
   "outputs": [],
   "source": []
  }
 ],
 "metadata": {
  "kernelspec": {
   "display_name": "Python 3 (ipykernel)",
   "language": "python",
   "name": "python3"
  },
  "language_info": {
   "codemirror_mode": {
    "name": "ipython",
    "version": 3
   },
   "file_extension": ".py",
   "mimetype": "text/x-python",
   "name": "python",
   "nbconvert_exporter": "python",
   "pygments_lexer": "ipython3",
   "version": "3.13.0"
  }
 },
 "nbformat": 4,
 "nbformat_minor": 4
}
