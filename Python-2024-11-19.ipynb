{
 "cells": [
  {
   "cell_type": "markdown",
   "metadata": {},
   "source": [
    "# Agenda: Week 3\n",
    "\n",
    "1. Q&A\n",
    "2. Dictionaries\n",
    "    - Defining them\n",
    "    - Retrieving from them\n",
    "    - Modifying them\n",
    "    - Three paradigms of dictionary use\n",
    "    - Looping over dictionaries\n",
    "    - How do dicts work behind the scenes?\n",
    "3. Files (text files)\n",
    "    - How do we read from a file?\n",
    "    - Iterating over file objects\n",
    "    - Writing to files and the `with` construct"
   ]
  },
  {
   "cell_type": "markdown",
   "metadata": {},
   "source": [
    "# Dictionaries\n",
    "\n",
    "So far, we've talked about several types of \"collections\" in Python, data structures that contain other data structures:\n",
    "\n",
    "- Strings (which contain characters)\n",
    "- Lists (the main container, which contain anything -- traditionally many items of the same type)\n",
    "- Tuples (contains, traditionally containing different types)\n",
    "\n",
    "In all of these cases, we store and retrieve via the index, which starts at 0 and goes up to the length - 1.\n",
    "\n",
    "Two problems: \n",
    "\n",
    "1. If we want to search for something, it can take a long time to find it, because we need to iterate over the entire data structure in order to search. The longer the string/list/tuple, the longer it can take to find out if a value is there.\n",
    "2. Storing and retrieving by numeric index is not very intuitive.  We might want to store/retrieve information about employees by their ID number. Or about cars by their license plates. We *can* use the indexes, but something else might be nicer/better/easier to work with.\n",
    "\n",
    "This is where dicts come in. Python is not the only language with dictionaries!  In other languages, we call them:\n",
    "\n",
    "- Hash tables\n",
    "- Hashes\n",
    "- Hash maps\n",
    "- Maps\n",
    "- Name-value pairs\n",
    "- Key-value pairs\n",
    "- Associative arrays\n",
    "\n",
    "The idea is that we are going to store not individual values, but *pairs* of values. One is called the \"key\" (it's the equivalent to an index) and the other is the \"value.\" \n",
    "\n",
    "We can only work with pairs, never just a key or just a value.\n",
    "\n",
    "Some rules for dicts:\n",
    "\n",
    "- Every key has a value, and every value has a key.\n",
    "- Values can be *ANYTHING* at all in the Python world.\n",
    "- Keys are more restricted: They must be immutable (basically: numbers, strings, tuples), and they cannot repeat.\n",
    "\n",
    "It's most common for us to define a dict with strings as keys, and something else (integers, floats, other strings) as the values.\n",
    "\n",
    "You can think of a dict in some ways as a list in which we get to control not only the value that's stored, but also the index (key) we use to store it."
   ]
  },
  {
   "cell_type": "markdown",
   "metadata": {},
   "source": [
    "# Dict syntax\n",
    "\n",
    "To define a dict:\n",
    "\n",
    "- We use `{}`\n",
    "- Each key-value pair has a `:` between the key and the value\n",
    "- Pairs are separated by `,`\n"
   ]
  },
  {
   "cell_type": "code",
   "execution_count": 1,
   "metadata": {},
   "outputs": [],
   "source": [
    "d = {'a':10, 'b':20, 'c':30}    # here, I'm creating a dict with three pairs"
   ]
  },
  {
   "cell_type": "code",
   "execution_count": 2,
   "metadata": {},
   "outputs": [
    {
     "data": {
      "text/plain": [
       "10"
      ]
     },
     "execution_count": 2,
     "metadata": {},
     "output_type": "execute_result"
    }
   ],
   "source": [
    "# we retrieve from a dict using [], just as we do with strings, lists, and tuples\n",
    "# but in the [], we put the key we want\n",
    "\n",
    "d['a']  "
   ]
  },
  {
   "cell_type": "code",
   "execution_count": 3,
   "metadata": {},
   "outputs": [
    {
     "data": {
      "text/plain": [
       "10"
      ]
     },
     "execution_count": 3,
     "metadata": {},
     "output_type": "execute_result"
    }
   ],
   "source": [
    "k = 'a'   # assign to a variable\n",
    "d[k]  "
   ]
  },
  {
   "cell_type": "code",
   "execution_count": 4,
   "metadata": {},
   "outputs": [
    {
     "ename": "KeyError",
     "evalue": "'wxyz'",
     "output_type": "error",
     "traceback": [
      "\u001b[0;31m---------------------------------------------------------------------------\u001b[0m",
      "\u001b[0;31mKeyError\u001b[0m                                  Traceback (most recent call last)",
      "Cell \u001b[0;32mIn[4], line 1\u001b[0m\n\u001b[0;32m----> 1\u001b[0m \u001b[43md\u001b[49m\u001b[43m[\u001b[49m\u001b[38;5;124;43m'\u001b[39;49m\u001b[38;5;124;43mwxyz\u001b[39;49m\u001b[38;5;124;43m'\u001b[39;49m\u001b[43m]\u001b[49m   \u001b[38;5;66;03m# ask for a key that doesn't exist...\u001b[39;00m\n",
      "\u001b[0;31mKeyError\u001b[0m: 'wxyz'"
     ]
    }
   ],
   "source": [
    "d['wxyz']   # ask for a key that doesn't exist..."
   ]
  },
  {
   "cell_type": "code",
   "execution_count": 5,
   "metadata": {},
   "outputs": [
    {
     "data": {
      "text/plain": [
       "3"
      ]
     },
     "execution_count": 5,
     "metadata": {},
     "output_type": "execute_result"
    }
   ],
   "source": [
    "# get the length of a dict with len()\n",
    "len(d)"
   ]
  },
  {
   "cell_type": "code",
   "execution_count": 6,
   "metadata": {},
   "outputs": [
    {
     "data": {
      "text/plain": [
       "{'a': 10, 'b': 20, 'c': 30}"
      ]
     },
     "execution_count": 6,
     "metadata": {},
     "output_type": "execute_result"
    }
   ],
   "source": [
    "d"
   ]
  },
  {
   "cell_type": "code",
   "execution_count": 7,
   "metadata": {},
   "outputs": [
    {
     "data": {
      "text/plain": [
       "True"
      ]
     },
     "execution_count": 7,
     "metadata": {},
     "output_type": "execute_result"
    }
   ],
   "source": [
    "# if we want to avoid an error, then we don't want to request a key that doesn't exist\n",
    "# we can use \"in\" to search in a dict's keys, to know if the key exists.\n",
    "# note that \"in\" NEVER EVER searches in the values, only in the keys\n",
    "\n",
    "'a' in d   # is 'a' a key in d?"
   ]
  },
  {
   "cell_type": "code",
   "execution_count": 8,
   "metadata": {},
   "outputs": [
    {
     "data": {
      "text/plain": [
       "False"
      ]
     },
     "execution_count": 8,
     "metadata": {},
     "output_type": "execute_result"
    }
   ],
   "source": [
    "'x' in d"
   ]
  },
  {
   "cell_type": "markdown",
   "metadata": {},
   "source": [
    "- Keys are unique and immutable\n",
    "- Values can be anything at all, no restrictions on types or repetition"
   ]
  },
  {
   "cell_type": "code",
   "execution_count": 9,
   "metadata": {},
   "outputs": [],
   "source": [
    "person = {'first_name':'Reuven', 'last_name':'Lerner', 'shoe_size':46}"
   ]
  },
  {
   "cell_type": "code",
   "execution_count": 10,
   "metadata": {},
   "outputs": [
    {
     "data": {
      "text/plain": [
       "'Reuven'"
      ]
     },
     "execution_count": 10,
     "metadata": {},
     "output_type": "execute_result"
    }
   ],
   "source": [
    "# I've now created a dict with three key-value pairs\n",
    "\n",
    "person['first_name']"
   ]
  },
  {
   "cell_type": "code",
   "execution_count": 11,
   "metadata": {},
   "outputs": [
    {
     "data": {
      "text/plain": [
       "46"
      ]
     },
     "execution_count": 11,
     "metadata": {},
     "output_type": "execute_result"
    }
   ],
   "source": [
    "person['shoe_size']"
   ]
  },
  {
   "cell_type": "code",
   "execution_count": 12,
   "metadata": {},
   "outputs": [
    {
     "ename": "KeyError",
     "evalue": "'email'",
     "output_type": "error",
     "traceback": [
      "\u001b[0;31m---------------------------------------------------------------------------\u001b[0m",
      "\u001b[0;31mKeyError\u001b[0m                                  Traceback (most recent call last)",
      "Cell \u001b[0;32mIn[12], line 1\u001b[0m\n\u001b[0;32m----> 1\u001b[0m \u001b[43mperson\u001b[49m\u001b[43m[\u001b[49m\u001b[38;5;124;43m'\u001b[39;49m\u001b[38;5;124;43memail\u001b[39;49m\u001b[38;5;124;43m'\u001b[39;49m\u001b[43m]\u001b[49m\n",
      "\u001b[0;31mKeyError\u001b[0m: 'email'"
     ]
    }
   ],
   "source": [
    "person['email']"
   ]
  },
  {
   "cell_type": "code",
   "execution_count": 14,
   "metadata": {},
   "outputs": [
    {
     "name": "stdout",
     "output_type": "stream",
     "text": [
      "Who has email any more?\n"
     ]
    }
   ],
   "source": [
    "if 'email' in person:\n",
    "    print(person['email'])\n",
    "else:\n",
    "    print('Who has email any more?')"
   ]
  },
  {
   "cell_type": "markdown",
   "metadata": {},
   "source": [
    "When we use `in` to search in a string, list, or tuple, we're searching through each of the values, one at a time.\n",
    "\n",
    "When we use `in` to search a dict's keys, we're actually going straight to the place in memory where the key might (if it's there) be stored. And we know right away. This is a far faster search, and takes much less time."
   ]
  },
  {
   "cell_type": "markdown",
   "metadata": {},
   "source": [
    "# Uses for dicts\n",
    "\n",
    "It turns out that there are *many* programming problems that are elegantly solved using dicts:\n",
    "\n",
    "- user IDs and user records in a database\n",
    "- filenames and file attributes\n",
    "- filenames and file contents\n",
    "- directory names and file objects in that directory\n",
    "\n",
    "The fact that a dict can use strings for keys allows us to use natural, human types of information to store and retrieve. We can even get input from the user and use that to search through our dict."
   ]
  },
  {
   "cell_type": "markdown",
   "metadata": {
    "jp-MarkdownHeadingCollapsed": true
   },
   "source": [
    "# To define a dict\n",
    "\n",
    "- Use `{}` on the outside\n",
    "- Each key-value pair has a `:` between the key and value\n",
    "- The pairs are separated with `,`\n",
    "\n",
    "```python\n",
    "month_numbers = {'Jan':1, 'Feb':2, 'Mar':3, 'Apr':4}\n",
    "month_names = {1:'Jan', 2:'Feb', 3:'Mar', 4:'Apr'}\n",
    "letter_values = {'a':1, 'b':2, 'c':3, 'd':4, 'e':5, 'f':6}\n",
    "```"
   ]
  },
  {
   "cell_type": "markdown",
   "metadata": {},
   "source": [
    "# Exercise: Restaurant\n",
    "\n",
    "1. Define a dict, `menu`, which represents the menu at a restaurant. (You can decide what the restaurant sells, and what prices they have.)\n",
    "2. Define `total`, an integer to be 0.\n",
    "3. Ask the user, repeatedly, to enter the name of the dish they want to order\n",
    "    - If they enter an empty string, then stop asking and print the total\n",
    "4. If the item is on the menu, then print the item, its price, and the new total.\n",
    "5. If the item is *not* on the menu, then scold the user and let them try again.\n",
    "6. In the end, print the total.\n",
    "\n",
    "Example:\n",
    "\n",
    "    Order: sandwich\n",
    "    sandwich is 10, total is 10\n",
    "    Order: tea\n",
    "    tea is 8, total is 18\n",
    "    Order: elephant\n",
    "    we're fresh out of elephant today!\n",
    "    Order: [ENTER]\n",
    "    total is 18\n",
    "\n",
    "Plan:\n",
    "- Create a dict with keys (strings/items) and values (prices)\n",
    "- Use a `while` loop to ask the user repeatedly to enter what they want to order\n",
    "- Use `input` in the `while` loop to get the user's input\n",
    "- Check if the user entered an empty string, and if so, use `break` to leave the loop\n",
    "- Check if the user's input is in the dict with `in`\n",
    "- Update `total` accordingly"
   ]
  },
  {
   "cell_type": "code",
   "execution_count": 15,
   "metadata": {},
   "outputs": [
    {
     "data": {
      "text/plain": [
       "4"
      ]
     },
     "execution_count": 15,
     "metadata": {},
     "output_type": "execute_result"
    }
   ],
   "source": [
    "menu = {'sandwich':10, 'tea':8, 'apple':3, 'cake':5} \n",
    "len(menu)   "
   ]
  },
  {
   "cell_type": "code",
   "execution_count": 18,
   "metadata": {},
   "outputs": [
    {
     "name": "stdin",
     "output_type": "stream",
     "text": [
      "Order:  elephant\n"
     ]
    },
    {
     "name": "stdout",
     "output_type": "stream",
     "text": [
      "Sorry, but we are out of elephant today.\n",
      "total is 0\n"
     ]
    }
   ],
   "source": [
    "menu = {'sandwich':10, 'tea':8, 'apple':3, 'cake':5} \n",
    "order = input('Order: ').strip()\n",
    "total = 0\n",
    "\n",
    "# is the user's order on the menu?\n",
    "if order in menu:\n",
    "    price = menu[order]   # get the price for the user's order\n",
    "    total += price        # add the price to the total\n",
    "    print(f'{order} costs {price}; total is now {total}')\n",
    "\n",
    "else:\n",
    "    print(f'Sorry, but we are out of {order} today.')\n",
    "\n",
    "print(f'total is {total}')"
   ]
  },
  {
   "cell_type": "markdown",
   "metadata": {},
   "source": [
    "**DO NOT USE PYTHON TYPE NAMES AS VARIABLE NAMES!**\n",
    "\n",
    "Don't call your variables:\n",
    "- `int`\n",
    "- `str`\n",
    "- `list`\n",
    "- `tuple`\n",
    "- `dict`\n",
    "\n",
    "This *will* actually work... until it doesn't. It makes for very odd, hard-to-understand bugs."
   ]
  },
  {
   "cell_type": "code",
   "execution_count": 19,
   "metadata": {},
   "outputs": [
    {
     "data": {
      "text/plain": [
       "dict"
      ]
     },
     "execution_count": 19,
     "metadata": {},
     "output_type": "execute_result"
    }
   ],
   "source": [
    "type(menu)  # what data type is menu?"
   ]
  },
  {
   "cell_type": "code",
   "execution_count": 20,
   "metadata": {},
   "outputs": [
    {
     "name": "stdin",
     "output_type": "stream",
     "text": [
      "Order:  sandwich\n"
     ]
    },
    {
     "name": "stdout",
     "output_type": "stream",
     "text": [
      "sandwich costs 10; total is now 10\n"
     ]
    },
    {
     "name": "stdin",
     "output_type": "stream",
     "text": [
      "Order:  tea\n"
     ]
    },
    {
     "name": "stdout",
     "output_type": "stream",
     "text": [
      "tea costs 8; total is now 18\n"
     ]
    },
    {
     "name": "stdin",
     "output_type": "stream",
     "text": [
      "Order:  cake\n"
     ]
    },
    {
     "name": "stdout",
     "output_type": "stream",
     "text": [
      "cake costs 5; total is now 23\n"
     ]
    },
    {
     "name": "stdin",
     "output_type": "stream",
     "text": [
      "Order:  apple\n"
     ]
    },
    {
     "name": "stdout",
     "output_type": "stream",
     "text": [
      "apple costs 3; total is now 26\n"
     ]
    },
    {
     "name": "stdin",
     "output_type": "stream",
     "text": [
      "Order:  apple\n"
     ]
    },
    {
     "name": "stdout",
     "output_type": "stream",
     "text": [
      "apple costs 3; total is now 29\n"
     ]
    },
    {
     "name": "stdin",
     "output_type": "stream",
     "text": [
      "Order:  cookie\n"
     ]
    },
    {
     "name": "stdout",
     "output_type": "stream",
     "text": [
      "Sorry, but we are out of cookie today.\n"
     ]
    },
    {
     "name": "stdin",
     "output_type": "stream",
     "text": [
      "Order:  \n"
     ]
    },
    {
     "name": "stdout",
     "output_type": "stream",
     "text": [
      "total is 29\n"
     ]
    }
   ],
   "source": [
    "# add the loop\n",
    "# here, we're using the dict as a small read-only database in our program\n",
    "\n",
    "menu = {'sandwich':10, 'tea':8, 'apple':3, 'cake':5} \n",
    "total = 0\n",
    "\n",
    "while True:\n",
    "    order = input('Order: ').strip()\n",
    "\n",
    "    # did we get the empty string? Stop the loop\n",
    "    if order == '':\n",
    "        break\n",
    "    \n",
    "    # is the user's order on the menu?\n",
    "    if order in menu:\n",
    "        price = menu[order]   # get the price for the user's order\n",
    "        total += price        # add the price to the total\n",
    "        print(f'{order} costs {price}; total is now {total}')\n",
    "    \n",
    "    else:\n",
    "        print(f'Sorry, but we are out of {order} today.')\n",
    "\n",
    "print(f'total is {total}')"
   ]
  },
  {
   "cell_type": "code",
   "execution_count": null,
   "metadata": {},
   "outputs": [],
   "source": [
    "# AS\n",
    "\n",
    "menu = {'burger':5, 'sandwitch':10, 'coffee':4}\n",
    "total = 0\n",
    "\n",
    "while True:\n",
    "    order = input(\"what you want to order\")\n",
    "    if order == \"\":\n",
    "        break\n",
    "    elif order in menu:    \n",
    "        total = total + menu[order]\n",
    "    else:\n",
    "        print(\"sorry\")\n",
    "print(total)        "
   ]
  },
  {
   "cell_type": "markdown",
   "metadata": {},
   "source": [
    "# Rules for dicts\n",
    "\n",
    "- Every key has one value, every value has one key\n",
    "- Keys must be immutable and unique in the dict\n",
    "- Values can be anything at all\n",
    "\n",
    "On the face of it, each key can have one value, so you cannot have multiple values for a key.\n",
    "\n",
    "*BUT* you can have a list or tuple as the value for a key, and then you have .. multiple values.\n",
    "\n",
    "When we retrieve from a dict, we retrieve one value at a time, based on one key. There is no such thing as a \"dict slice.\""
   ]
  },
  {
   "cell_type": "markdown",
   "metadata": {},
   "source": [
    "# Modifying dicts\n",
    "\n",
    "Dictionaries are mutable! \n",
    "\n",
    "- We can add a new key-value pair whenever we want\n",
    "- We can replace a value with a new one\n",
    "- We can remove key-value pairs\n",
    "\n",
    "This means that a dict cannot be a key in a dict. *BUT* a dict can be a value in a dict. This is how we create complex data structures, such as trees, in Python."
   ]
  },
  {
   "cell_type": "code",
   "execution_count": 21,
   "metadata": {},
   "outputs": [
    {
     "data": {
      "text/plain": [
       "{'a': 10, 'b': 20, 'c': 1234, 'd': 40}"
      ]
     },
     "execution_count": 21,
     "metadata": {},
     "output_type": "execute_result"
    }
   ],
   "source": [
    "d = {'a':10, 'b':20, 'c':30, 'd':40}\n",
    "\n",
    "# I can update/modify an existing value by assigning to the same key\n",
    "# (remember that every key in a dict is unique)\n",
    "\n",
    "d['c'] = 1234     # now 1234 will replace 30 as the value for 'c'\n",
    "\n",
    "d"
   ]
  },
  {
   "cell_type": "code",
   "execution_count": 22,
   "metadata": {},
   "outputs": [
    {
     "data": {
      "text/plain": [
       "{'a': 10, 'b': 20, 'c': 1234, 'd': 40, 'x': 9876}"
      ]
     },
     "execution_count": 22,
     "metadata": {},
     "output_type": "execute_result"
    }
   ],
   "source": [
    "# how do I add a new key-value pairs to a dict?\n",
    "# remember that in a list, we use the .append method to do so.\n",
    "# well, in dicts, we just assign the key-value pair\n",
    "# (yes, it's the same as modifying an existing key-value pair!)\n",
    "\n",
    "d['x'] = 9876\n",
    "\n",
    "d"
   ]
  },
  {
   "cell_type": "code",
   "execution_count": 23,
   "metadata": {},
   "outputs": [
    {
     "data": {
      "text/plain": [
       "{'a': 10, 'b': 20, 'c': 1234, 'd': 40, 'x': 9886}"
      ]
     },
     "execution_count": 23,
     "metadata": {},
     "output_type": "execute_result"
    }
   ],
   "source": [
    "# we can update an existing value using += \n",
    "\n",
    "d['x'] += 10    # this means: d['x'] = d['x'] + 10\n",
    "d"
   ]
  },
  {
   "cell_type": "code",
   "execution_count": 24,
   "metadata": {},
   "outputs": [
    {
     "data": {
      "text/plain": [
       "9886"
      ]
     },
     "execution_count": 24,
     "metadata": {},
     "output_type": "execute_result"
    }
   ],
   "source": [
    "# removing key-value pairs\n",
    "# this is actually pretty rare, in my experience\n",
    "\n",
    "d.pop('x')   # this removes the key-value pair with 'x' as the key, and returns the value"
   ]
  },
  {
   "cell_type": "code",
   "execution_count": 25,
   "metadata": {},
   "outputs": [
    {
     "data": {
      "text/plain": [
       "{'a': 10, 'b': 20, 'c': 1234, 'd': 40}"
      ]
     },
     "execution_count": 25,
     "metadata": {},
     "output_type": "execute_result"
    }
   ],
   "source": [
    "d"
   ]
  },
  {
   "cell_type": "code",
   "execution_count": 26,
   "metadata": {},
   "outputs": [
    {
     "data": {
      "text/plain": [
       "{'a': [10, 20, 30], 'b': [40, 50, 60], 'c': [70, 80, 90]}"
      ]
     },
     "execution_count": 26,
     "metadata": {},
     "output_type": "execute_result"
    }
   ],
   "source": [
    "# example of multiple values for a key\n",
    "\n",
    "d = {'a':[10, 20, 30], 'b':[40, 50, 60], 'c':[70, 80, 90]}\n",
    "d"
   ]
  },
  {
   "cell_type": "code",
   "execution_count": 27,
   "metadata": {},
   "outputs": [
    {
     "data": {
      "text/plain": [
       "[10, 20, 30]"
      ]
     },
     "execution_count": 27,
     "metadata": {},
     "output_type": "execute_result"
    }
   ],
   "source": [
    "d['a']"
   ]
  },
  {
   "cell_type": "code",
   "execution_count": 28,
   "metadata": {},
   "outputs": [
    {
     "data": {
      "text/plain": [
       "{'a': [10, 20, 30, 35], 'b': [40, 50, 60], 'c': [70, 80, 90]}"
      ]
     },
     "execution_count": 28,
     "metadata": {},
     "output_type": "execute_result"
    }
   ],
   "source": [
    "# I can even do this:\n",
    "\n",
    "d['a'].append(35)  # adds 35 to the list stored at d['a']\n",
    "\n",
    "d"
   ]
  },
  {
   "cell_type": "code",
   "execution_count": 29,
   "metadata": {},
   "outputs": [
    {
     "data": {
      "text/plain": [
       "[10, 20, 30, 35]"
      ]
     },
     "execution_count": 29,
     "metadata": {},
     "output_type": "execute_result"
    }
   ],
   "source": [
    "d['a']"
   ]
  },
  {
   "cell_type": "code",
   "execution_count": 30,
   "metadata": {},
   "outputs": [
    {
     "data": {
      "text/plain": [
       "10"
      ]
     },
     "execution_count": 30,
     "metadata": {},
     "output_type": "execute_result"
    }
   ],
   "source": [
    "# this looks funny, but just read it from left to right\n",
    "# - d, a dict\n",
    "# - ['a'], retrieving from the dict\n",
    "# - this gives back a list\n",
    "# - on a list, we can use [0] to retrieve the first element\n",
    "\n",
    "d['a'][0]  "
   ]
  },
  {
   "cell_type": "code",
   "execution_count": 31,
   "metadata": {},
   "outputs": [
    {
     "data": {
      "text/plain": [
       "{'a': [99999, 20, 30, 35], 'b': [40, 50, 60], 'c': [70, 80, 90]}"
      ]
     },
     "execution_count": 31,
     "metadata": {},
     "output_type": "execute_result"
    }
   ],
   "source": [
    "# we can even put that on the left side of assignment!\n",
    "\n",
    "d['a'][0]  = 99999   # assigns to the element at index 0 in the list at d['a']\n",
    "\n",
    "d"
   ]
  },
  {
   "cell_type": "code",
   "execution_count": 32,
   "metadata": {},
   "outputs": [
    {
     "data": {
      "text/plain": [
       "dict_keys(['a', 'b', 'c'])"
      ]
     },
     "execution_count": 32,
     "metadata": {},
     "output_type": "execute_result"
    }
   ],
   "source": [
    "# you can get the keys with d.keys()\n",
    "d.keys()"
   ]
  },
  {
   "cell_type": "code",
   "execution_count": 33,
   "metadata": {},
   "outputs": [
    {
     "data": {
      "text/plain": [
       "dict_values([[99999, 20, 30, 35], [40, 50, 60], [70, 80, 90]])"
      ]
     },
     "execution_count": 33,
     "metadata": {},
     "output_type": "execute_result"
    }
   ],
   "source": [
    "# you can get the values with d.values()\n",
    "d.values()"
   ]
  },
  {
   "cell_type": "markdown",
   "metadata": {},
   "source": [
    "# Python does this, too!\n",
    "\n",
    "If you store a value in a variable `x`, Python is really taking the variable name, using it as a string (`'x'`), and using that string as a key in an internal dict of variable names and values!\n",
    "\n",
    "Python's core developers are always trying to find ways to make dicts faster, not just for us, but because the entire language then gets faster as a result."
   ]
  },
  {
   "cell_type": "markdown",
   "metadata": {},
   "source": [
    "# Next up\n",
    "\n",
    "1. Using a dict for accumulation (paradigm 2)\n",
    "2. Using a dict to count from nothing (paradigm 3)\n",
    "\n"
   ]
  },
  {
   "cell_type": "markdown",
   "metadata": {},
   "source": [
    "We can use a dict to accumulate information over the course of a program:\n",
    "\n",
    "- We set up a dict with keys that we know and initial values (typically 0)\n",
    "- As the program progresses, we add to the values, typically 1 at a time\n",
    "- When the program is done, we look at the keys and values and know how often something happened"
   ]
  },
  {
   "cell_type": "code",
   "execution_count": 35,
   "metadata": {
    "scrolled": true
   },
   "outputs": [
    {
     "name": "stdout",
     "output_type": "stream",
     "text": [
      "\t0 is even\n",
      "\t1 is odd\n",
      "\t2 is even\n",
      "\t3 is odd\n",
      "\t4 is even\n",
      "\t5 is odd\n",
      "\t6 is even\n",
      "\t7 is odd\n",
      "\t8 is even\n",
      "\t9 is odd\n",
      "{'odds': 5, 'evens': 5}\n"
     ]
    }
   ],
   "source": [
    "# Odds and evens\n",
    "\n",
    "# let's write a program that goes through the numbers from 0 - 9, decides if each is odd or even, and \n",
    "# counts accordingly.\n",
    "\n",
    "counts = {'odds':0, 'evens':0}    # this dict is where we'll keep track of things\n",
    "\n",
    "for one_number in range(10):  # this will iterate from 0 - 9\n",
    "    if one_number % 2 == 0:   # does the number have 0 remainder after dividing by 2? It must be even!\n",
    "        print(f'\\t{one_number} is even')\n",
    "        counts['evens'] += 1  # add 1 to counts['evens']\n",
    "    else:\n",
    "        print(f'\\t{one_number} is odd')\n",
    "        counts['odds'] += 1   # add 1 to counts['odds']\n",
    "\n",
    "print(counts)"
   ]
  },
  {
   "cell_type": "code",
   "execution_count": 37,
   "metadata": {},
   "outputs": [
    {
     "name": "stdout",
     "output_type": "stream",
     "text": [
      "The same!\n"
     ]
    }
   ],
   "source": [
    "# do we have more odds or evens?\n",
    "\n",
    "if counts['odds'] > counts['evens']:\n",
    "    print('More odds than evens')\n",
    "elif counts['odds'] == counts['evens']:\n",
    "    print('The same!')\n",
    "else:\n",
    "    print('More evens than odds')"
   ]
  },
  {
   "cell_type": "markdown",
   "metadata": {},
   "source": [
    "# Exercise: Vowels, digits, and others (dict edition)\n",
    "\n",
    "1. Set up a dict, `counts`, with three keys -- `vowels`, `digits`, and `others`, with 0 as the value for each.\n",
    "2. Ask the user to enter text (a string)\n",
    "3. Go through the text, one character at a time\n",
    "    - If it's a vowel, then add 1 to `vowels`\n",
    "    - If it's a digit, then add 1 to `digits`\n",
    "    - If it's neither, then add 1 to `others`\n",
    "4. Print the dict that results."
   ]
  },
  {
   "cell_type": "code",
   "execution_count": 38,
   "metadata": {},
   "outputs": [
    {
     "name": "stdin",
     "output_type": "stream",
     "text": [
      "Enter text:  hello!! 123\n"
     ]
    },
    {
     "name": "stdout",
     "output_type": "stream",
     "text": [
      "{'vowels': 2, 'digits': 3, 'others': 6}\n"
     ]
    }
   ],
   "source": [
    "counts = {'vowels':0,\n",
    "          'digits':0,\n",
    "          'others':0}\n",
    "\n",
    "# counts['vowels'] += 1    # this means: counts['vowels'] = counts['vowels'] + 1\n",
    "\n",
    "text = input('Enter text: ').strip()\n",
    "\n",
    "for one_character in text:\n",
    "    if one_character in 'aeiou':   # vowel?\n",
    "        counts['vowels'] += 1      #    add 1 to the vowels counter\n",
    "    elif one_character.isdigit():  # digit?\n",
    "        counts['digits'] += 1      #    add 1 to the digits counter\n",
    "    else:\n",
    "        counts['others'] += 1      # add 1 to the others counter\n",
    "\n",
    "print(counts)  "
   ]
  },
  {
   "cell_type": "code",
   "execution_count": 40,
   "metadata": {},
   "outputs": [
    {
     "name": "stdin",
     "output_type": "stream",
     "text": [
      "Type text: hello!! 123\n"
     ]
    },
    {
     "name": "stdout",
     "output_type": "stream",
     "text": [
      "{'others': 6, 'digits': 3, 'vowels': 2}\n"
     ]
    }
   ],
   "source": [
    "# AI\n",
    "\n",
    "counts = {'others':0, 'digits':0, 'vowels':0}\n",
    "text=input('Type text:')\n",
    "\n",
    "for one_character in text:\n",
    "    if one_character in 'aeiou':\n",
    "      counts['vowels']+=1\n",
    "    elif one_character.isdigit():\n",
    "      counts['digits']+=1\n",
    "    else:\n",
    "      counts['others']+=1\n",
    "\n",
    "print(counts)\n"
   ]
  },
  {
   "cell_type": "code",
   "execution_count": null,
   "metadata": {},
   "outputs": [],
   "source": [
    "# SS\n",
    "\n",
    "counts = {'vowels':0 , 'digits':0 , 'others':0} \n",
    "input_text = input(\"Enter your text: \").strip()\n",
    "vowelsList = ['a' , 'e' , 'i' , 'o' , 'u'] \n",
    "\n",
    "for text in input_text:\n",
    "    if text.isdigit():\n",
    "        counts['digits'] += 1 \n",
    "    elif text in vowelsList:\n",
    "        counts['vowels'] += 1 \n",
    "    else :\n",
    "        counts['others'] += 1 \n",
    "\n",
    "print(counts)\n",
    "\n"
   ]
  },
  {
   "cell_type": "code",
   "execution_count": 41,
   "metadata": {},
   "outputs": [
    {
     "name": "stdin",
     "output_type": "stream",
     "text": [
      "Enter text:  hello!! 123\n"
     ]
    },
    {
     "name": "stdout",
     "output_type": "stream",
     "text": [
      "{'vowels': ['e', 'o'], 'digits': ['1', '2', '3'], 'others': ['h', 'l', 'l', '!', '!', ' ']}\n"
     ]
    }
   ],
   "source": [
    "# what if I don't want to count these characters, but store these characters?\n",
    "# I can have my dict values be lists, rather than integers!\n",
    "\n",
    "counts = {'vowels':[],\n",
    "          'digits':[],\n",
    "          'others':[]}\n",
    "\n",
    "text = input('Enter text: ').strip()\n",
    "\n",
    "for one_character in text:\n",
    "    if one_character in 'aeiou':   # vowel?\n",
    "        counts['vowels'].append(one_character)\n",
    "    elif one_character.isdigit():  # digit?\n",
    "        counts['digits'].append(one_character)     #    add 1 to the digits counter\n",
    "    else:\n",
    "        counts['others'].append(one_character)     # add 1 to the others counter\n",
    "\n",
    "print(counts)  "
   ]
  },
  {
   "cell_type": "code",
   "execution_count": 43,
   "metadata": {},
   "outputs": [
    {
     "name": "stdin",
     "output_type": "stream",
     "text": [
      "Enter text:  hello!! 123\n"
     ]
    },
    {
     "name": "stdout",
     "output_type": "stream",
     "text": [
      "\tIgnoring  \n",
      "{'vowels': ['e', 'o'], 'digits': ['1', '2', '3'], 'others': ['h', 'l', 'l', '!', '!']}\n"
     ]
    }
   ],
   "source": [
    "# let's say we want to ignore some characters\n",
    "\n",
    "ignore_list = [' ']\n",
    "\n",
    "counts = {'vowels':[],\n",
    "          'digits':[],\n",
    "          'others':[]}\n",
    "\n",
    "text = input('Enter text: ').strip()\n",
    "\n",
    "for one_character in text:\n",
    "    if one_character in ignore_list:\n",
    "        print(f'\\tIgnoring {one_character}')   # \\t means \"tab\", or \"indent up to 8 spaces\"\n",
    "    elif one_character in 'aeiou':   # vowel?\n",
    "        counts['vowels'].append(one_character)\n",
    "    elif one_character.isdigit():  # digit?\n",
    "        counts['digits'].append(one_character)     #    add 1 to the digits counter\n",
    "    else:\n",
    "        counts['others'].append(one_character)     # add 1 to the others counter\n",
    "\n",
    "print(counts)  "
   ]
  },
  {
   "cell_type": "markdown",
   "metadata": {},
   "source": [
    "# Paradigm 3 for dicts: Starting with nothing\n",
    "\n",
    "Sometimes, we want to count things, but we don't know what we'll be counting. We start with an empty dict, and then:\n",
    "\n",
    "- If we encounter a key we've seen before (which we can know thanks to `in`), we add 1 to its count (value)\n",
    "- If a key is new, then we add the key-value pair to the dict, with a value of 1 already\n"
   ]
  },
  {
   "cell_type": "code",
   "execution_count": 44,
   "metadata": {},
   "outputs": [
    {
     "name": "stdin",
     "output_type": "stream",
     "text": [
      "Enter text:  this is a very interesting and important sentence\n"
     ]
    },
    {
     "name": "stdout",
     "output_type": "stream",
     "text": [
      "{'t': 6, 'h': 1, 'i': 5, 's': 4, ' ': 7, 'a': 3, 'v': 1, 'e': 6, 'r': 3, 'y': 1, 'n': 6, 'g': 1, 'd': 1, 'm': 1, 'p': 1, 'o': 1, 'c': 1}\n"
     ]
    }
   ],
   "source": [
    "# example: Counting characters\n",
    "\n",
    "counts = {}   # empty dict\n",
    "\n",
    "text = input('Enter text: ').strip()  # get the text from the user\n",
    "\n",
    "for one_character in text:\n",
    "    if one_character in counts:     # have we seen this character before?\n",
    "        counts[one_character] += 1  #     add 1 to its count\n",
    "    else:\n",
    "        counts[one_character] = 1   #     otherwise, add this character as a key, with a value of 1\n",
    "\n",
    "print(counts)"
   ]
  },
  {
   "cell_type": "markdown",
   "metadata": {},
   "source": [
    "# Exercise: Rainfall\n",
    "\n",
    "We're going to keep track of how much rain fell in a variety of cities. We don't know what cities we'll be tracking when we write the program. The end result will be a dict whose keys are the city names (of what we tracked) and the values will be the total rain (in mm) that fell in that city.\n",
    "\n",
    "1. Create an empty dict, `rainfall`.\n",
    "2. Ask the user to enter a city name.\n",
    "    - If they give you an empty string, stop asking; exit the loop.\n",
    "3. If they gave you the name of a city, ask a second question: How much rain fell there?\n",
    "    - We'll assume that they will give you a legal answer, with digits\n",
    "4. If we have seen this city before, add the new rainfall to the old one.\n",
    "5. If this is the first time we're seeing this city, set the key to the city and the value to the amount of rain we got.\n",
    "6. At the end, print the dict.\n",
    "\n",
    "Example:\n",
    "\n",
    "    City: Jerusalem\n",
    "    Rain: 5\n",
    "    City: Tel Aviv\n",
    "    Rain: 3\n",
    "    City: Jerusalem\n",
    "    Rain: 4\n",
    "    City: [ENTER]\n",
    "    {'Jerusalem':9, 'Tel Aviv':3}\n",
    "\n",
    "This involves:\n",
    "- A `while` loop (since we don't know how many inputs we'll get)\n",
    "- Comparisons and `break`\n",
    "- Check if the city name is in our dict as a key\n",
    "\n",
    "    "
   ]
  },
  {
   "cell_type": "code",
   "execution_count": 46,
   "metadata": {},
   "outputs": [
    {
     "name": "stdout",
     "output_type": "stream",
     "text": [
      "this\n",
      "is\n",
      "a\n",
      "string\n"
     ]
    }
   ],
   "source": [
    "for one_item in 'this is a string'.split():\n",
    "    print(one_item)"
   ]
  },
  {
   "cell_type": "code",
   "execution_count": 47,
   "metadata": {},
   "outputs": [
    {
     "name": "stdin",
     "output_type": "stream",
     "text": [
      "Enter city name:  Jerusalem\n",
      "Enter mm rain:  5\n",
      "Enter city name:  Tel Aviv\n",
      "Enter mm rain:  4\n",
      "Enter city name:  Jerusalem\n",
      "Enter mm rain:  3\n",
      "Enter city name:  \n"
     ]
    },
    {
     "name": "stdout",
     "output_type": "stream",
     "text": [
      "{'Jerusalem': 8, 'Tel Aviv': 4}\n"
     ]
    }
   ],
   "source": [
    "rainfall = {}   # empty dict\n",
    "\n",
    "while True:     # infinite loop -- because we don't know how many pieces of data we'll get\n",
    "\n",
    "    city_name = input('Enter city name: ').strip()\n",
    "\n",
    "    if city_name == '':    # exit from the loop if we got an empty city name\n",
    "        break\n",
    "\n",
    "    mm_rain = input('Enter mm rain: ').strip()\n",
    "    mm_rain = int(mm_rain)\n",
    "\n",
    "    if city_name in rainfall:        # have we seen this city before?\n",
    "        rainfall[city_name] += mm_rain   # add the new amount of rain to whatever is in the dict\n",
    "    else:\n",
    "        rainfall[city_name] = mm_rain    # if it's the first time, then just assign the key-value pair\n",
    "\n",
    "print(rainfall)"
   ]
  },
  {
   "cell_type": "code",
   "execution_count": 52,
   "metadata": {},
   "outputs": [
    {
     "name": "stdin",
     "output_type": "stream",
     "text": [
      "City: a\n",
      "How much rain?: 5\n",
      "City: b\n",
      "How much rain?: 4\n",
      "City: a\n",
      "How much rain?: 3\n",
      "City: \n"
     ]
    },
    {
     "name": "stdout",
     "output_type": "stream",
     "text": [
      "{'a': 8, 'b': 4}\n"
     ]
    }
   ],
   "source": [
    "# AI\n",
    "\n",
    "rainfall={}\n",
    "\n",
    "while True:\n",
    " city=input('City:')\n",
    " if city== \"\":\n",
    "  break\n",
    " rain=input('How much rain?:')\n",
    " rain = int(rain)    \n",
    " if city in rainfall:\n",
    "  rainfall[city]+=rain\n",
    " else:\n",
    "  rainfall[city]=rain\n",
    "print(rainfall) "
   ]
  },
  {
   "cell_type": "markdown",
   "metadata": {},
   "source": [
    "# Next up\n",
    "\n",
    "- Iterating over dicts (the right and wrong ways to do it)\n",
    "- How dicts are implemented\n",
    "- Then ... files!\n",
    "\n",
    "Download the zipfile from here: https://files.lerner.co.il/exercise-files.zip"
   ]
  },
  {
   "cell_type": "code",
   "execution_count": null,
   "metadata": {},
   "outputs": [],
   "source": [
    "s = 'abcd'\n",
    "s.upper()  # we're invoking a method, the str.upper method on s -- the \".\" indicates that we're using an internal dict!"
   ]
  },
  {
   "cell_type": "code",
   "execution_count": 53,
   "metadata": {},
   "outputs": [
    {
     "name": "stdin",
     "output_type": "stream",
     "text": [
      "Enter city name :  a\n",
      "Enter rainfall in mm: 5\n",
      "Enter city name :  b\n",
      "Enter rainfall in mm: 4\n",
      "Enter city name :  a\n",
      "Enter rainfall in mm: 3\n",
      "Enter city name :  \n"
     ]
    },
    {
     "name": "stdout",
     "output_type": "stream",
     "text": [
      "{'a': 8, 'b': 4}\n"
     ]
    }
   ],
   "source": [
    "# SS\n",
    "\n",
    "\n",
    "rainfallRec = {} \n",
    "\n",
    "while True : \n",
    "    cityName = input('Enter city name : ').strip()\n",
    "    if cityName == '':\n",
    "        break\n",
    "    rain_mm = input('Enter rainfall in mm:').strip()\n",
    "    rain_mm = int(rain_mm)\n",
    "    if cityName in rainfallRec:\n",
    "        rainfallRec[cityName] += rain_mm\n",
    "    else:\n",
    "        rainfallRec[cityName] = rain_mm\n",
    "\n",
    "print (rainfallRec)"
   ]
  },
  {
   "cell_type": "markdown",
   "metadata": {},
   "source": [
    "# Variable name style\n",
    "\n",
    "There are a few basic styles for naming variables and functions in programming languages:\n",
    "\n",
    "- `snake_case`, all lowercase, with `_` between words\n",
    "- `CamelCase`, with initial letters of words Capitalized\n",
    "- `ALL_CAPS`\n",
    "- `__dunder__`, this is a special Python-only thing, with two underscores before and after the word\n",
    "\n",
    "In Python:\n",
    "- We use `snake_case` for all variables and functions\n",
    "- We use `CamelCase` for class names (in object-oriented programming)\n",
    "- We use `ALL_CAPS` for constants, meaning variables that shouldn't be modified\n",
    "- Dunder names are for special methods that you define in your objects\n",
    "\n"
   ]
  },
  {
   "cell_type": "markdown",
   "metadata": {},
   "source": [
    "# Iterating over dicts\n",
    "\n",
    "We've seen that we can use a `for` loop over different data structures:\n",
    "\n",
    "- Iterating over a string gives us characters\n",
    "- Iterating over a list gives us elements\n",
    "- Iterating over a tuple gives us elements\n",
    "\n",
    "What happens if we iterate over a dict?"
   ]
  },
  {
   "cell_type": "code",
   "execution_count": 54,
   "metadata": {},
   "outputs": [
    {
     "name": "stdout",
     "output_type": "stream",
     "text": [
      "a\n",
      "b\n",
      "c\n"
     ]
    }
   ],
   "source": [
    "# iterating over a dict gives us the keys (and not the values)\n",
    "\n",
    "d = {'a':10, 'b':20, 'c':30}\n",
    "\n",
    "for one_item in d:\n",
    "    print(one_item)"
   ]
  },
  {
   "cell_type": "code",
   "execution_count": null,
   "metadata": {},
   "outputs": [],
   "source": []
  }
 ],
 "metadata": {
  "kernelspec": {
   "display_name": "Python 3 (ipykernel)",
   "language": "python",
   "name": "python3"
  },
  "language_info": {
   "codemirror_mode": {
    "name": "ipython",
    "version": 3
   },
   "file_extension": ".py",
   "mimetype": "text/x-python",
   "name": "python",
   "nbconvert_exporter": "python",
   "pygments_lexer": "ipython3",
   "version": "3.13.0"
  }
 },
 "nbformat": 4,
 "nbformat_minor": 4
}
