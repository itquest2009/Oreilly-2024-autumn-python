{
 "cells": [
  {
   "cell_type": "markdown",
   "metadata": {},
   "source": [
    "# Agenda: Week 3\n",
    "\n",
    "1. Q&A\n",
    "2. Dictionaries\n",
    "    - Defining them\n",
    "    - Retrieving from them\n",
    "    - Modifying them\n",
    "    - Three paradigms of dictionary use\n",
    "    - Looping over dictionaries\n",
    "    - How do dicts work behind the scenes?\n",
    "3. Files (text files)\n",
    "    - How do we read from a file?\n",
    "    - Iterating over file objects\n",
    "    - Writing to files and the `with` construct"
   ]
  },
  {
   "cell_type": "markdown",
   "metadata": {},
   "source": [
    "# Dictionaries\n",
    "\n",
    "So far, we've talked about several types of \"collections\" in Python, data structures that contain other data structures:\n",
    "\n",
    "- Strings (which contain characters)\n",
    "- Lists (the main container, which contain anything -- traditionally many items of the same type)\n",
    "- Tuples (contains, traditionally containing different types)\n",
    "\n",
    "In all of these cases, we store and retrieve via the index, which starts at 0 and goes up to the length - 1.\n",
    "\n",
    "Two problems: \n",
    "\n",
    "1. If we want to search for something, it can take a long time to find it, because we need to iterate over the entire data structure in order to search. The longer the string/list/tuple, the longer it can take to find out if a value is there.\n",
    "2. Storing and retrieving by numeric index is not very intuitive.  We might want to store/retrieve information about employees by their ID number. Or about cars by their license plates. We *can* use the indexes, but something else might be nicer/better/easier to work with.\n",
    "\n",
    "This is where dicts come in. Python is not the only language with dictionaries!  In other languages, we call them:\n",
    "\n",
    "- Hash tables\n",
    "- Hashes\n",
    "- Hash maps\n",
    "- Maps\n",
    "- Name-value pairs\n",
    "- Key-value pairs\n",
    "- Associative arrays\n",
    "\n",
    "The idea is that we are going to store not individual values, but *pairs* of values,"
   ]
  }
 ],
 "metadata": {
  "kernelspec": {
   "display_name": "Python 3 (ipykernel)",
   "language": "python",
   "name": "python3"
  },
  "language_info": {
   "codemirror_mode": {
    "name": "ipython",
    "version": 3
   },
   "file_extension": ".py",
   "mimetype": "text/x-python",
   "name": "python",
   "nbconvert_exporter": "python",
   "pygments_lexer": "ipython3",
   "version": "3.13.0"
  }
 },
 "nbformat": 4,
 "nbformat_minor": 4
}
